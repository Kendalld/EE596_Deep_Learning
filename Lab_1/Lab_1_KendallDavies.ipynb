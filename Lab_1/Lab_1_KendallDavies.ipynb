{
 "cells": [
  {
   "cell_type": "markdown",
   "id": "e59cc59b",
   "metadata": {},
   "source": [
    "# Lab 1 Report: \n",
    "## Data Preparation Techniques for Machine Learning and Regression"
   ]
  },
  {
   "cell_type": "code",
   "execution_count": 1,
   "id": "5ffa2cfc",
   "metadata": {},
   "outputs": [],
   "source": [
    "# Import necessary libraries\n",
    "\n",
    "import numpy as np\n",
    "import pandas as pd\n",
    "import matplotlib.pyplot as plt"
   ]
  },
  {
   "cell_type": "code",
   "execution_count": 2,
   "id": "8bd4f433",
   "metadata": {},
   "outputs": [],
   "source": [
    "from IPython.display import Image # For displaying images in colab jupyter cell"
   ]
  },
  {
   "cell_type": "code",
   "execution_count": null,
   "id": "cb76ac03",
   "metadata": {},
   "outputs": [
    {
     "ename": "",
     "evalue": "",
     "output_type": "error",
     "traceback": [
      "\u001b[1;31mRunning cells with 'miniconda3 (Python 3.13.5)' requires the ipykernel package.\n",
      "\u001b[1;31mInstall 'ipykernel' into the Python environment. \n",
      "\u001b[1;31mCommand: 'conda install -p /home/kdavies/miniconda3 ipykernel --update-deps --force-reinstall'"
     ]
    }
   ],
   "source": [
    "Image('lab1_exercise1.PNG', width = 1000)"
   ]
  },
  {
   "cell_type": "code",
   "execution_count": null,
   "id": "d53e9365",
   "metadata": {},
   "outputs": [],
   "source": [
    "# Load the dataset (.csv) using pandas package\n",
    "\n",
    "CMS_calori_dataset = pd.read_csv('hgcal.csv')\n",
    "\n",
    "# .head directive on the panda dataframe displays the first n-rows\n",
    "\n",
    "CMS_calori_dataset.head(n = 10)"
   ]
  },
  {
   "cell_type": "code",
   "execution_count": null,
   "id": "4bfd1cee",
   "metadata": {},
   "outputs": [],
   "source": [
    "# Convert the panda dataframe into numpy 2D array\n",
    "\n",
    "CMS_calori_dataset_np = CMS_calori_dataset.to_numpy()\n",
    "\n",
    "# The converted numpy array has the dimension of 420 (rows) x 8 (columns)\n",
    "\n",
    "print(CMS_calori_dataset_np.shape)"
   ]
  },
  {
   "cell_type": "code",
   "execution_count": null,
   "id": "31eb6cac",
   "metadata": {},
   "outputs": [],
   "source": [
    "# Extract only x, y, z, eta, phi and energy columns from the dataset and stack them along column direction\n",
    "# Name this new 2D array CMS_calori_dataset_np_sub.\n",
    "# The array should have dimension 420 (rows) x 6 (columns)\n",
    "\n",
    "# YOUR CODE HERE\n",
    "\n",
    "# 0 index is blank for column label, 7 is trackID\n",
    "CMS_calori_dataset_np_sub = CMS_calori_dataset_np[:, 1:7] \n",
    "\n",
    "#x = CMS_calori_dataset_np_sub[:,3]\n",
    "\n",
    "print(CMS_calori_dataset_np_sub.shape)\n",
    "#print(x)\n"
   ]
  },
  {
   "cell_type": "code",
   "execution_count": null,
   "id": "fa445769",
   "metadata": {},
   "outputs": [],
   "source": [
    "# Create the scaling function\n",
    "\n",
    "def scale_data(arr):\n",
    "    \n",
    "    # YOUR CODE HERE\n",
    "    # z = (x - (mean))/(std div)\n",
    "    \n",
    "    scaled_data = np.zeros_like(arr)\n",
    "    \n",
    "    for i in range(arr.shape[1]):\n",
    "        mean = np.mean(arr[:, i])\n",
    "        std_div = np.std(arr[:, i])\n",
    "        scaled_data[:, i] = (arr[:, i] - mean) / std_div\n",
    "    \n",
    "    return scaled_data"
   ]
  },
  {
   "cell_type": "code",
   "execution_count": null,
   "id": "2bb4dc86",
   "metadata": {},
   "outputs": [],
   "source": [
    "# Test the function with CMS_calori_dataset_np_sub\n",
    "\n",
    "CMS_calori_dataset_np_sub_scaled = scale_data(CMS_calori_dataset_np_sub)\n",
    "\n",
    "print(CMS_calori_dataset_np_sub_scaled)"
   ]
  },
  {
   "cell_type": "code",
   "execution_count": null,
   "id": "99848799",
   "metadata": {},
   "outputs": [],
   "source": [
    "# Confirm the data is scaled for 'x' column\n",
    "\n",
    "plt.figure(figsize = (10, 5))\n",
    "\n",
    "plt.hist(CMS_calori_dataset_np_sub_scaled[:, 0], bins = 20, facecolor = 'grey', edgecolor = 'black', linewidth = 2)\n",
    "plt.xticks(fontsize=14)\n",
    "plt.yticks(fontsize=14)\n",
    "\n",
    "# Add proper x-label and y-label \n",
    "\n",
    "# YOUR CODE HERE\n",
    "\n",
    "print(CMS_calori_dataset_np_sub[0, 0])\n",
    "print(CMS_calori_dataset_np_sub_scaled[0, 0])\n",
    "\n",
    "plt.xlabel(\"Scaled X\")\n",
    "plt.ylabel(\"Count\")\n",
    "\n",
    "\n",
    "\n",
    "plt.show()"
   ]
  },
  {
   "cell_type": "code",
   "execution_count": null,
   "id": "62d7f731",
   "metadata": {},
   "outputs": [],
   "source": [
    "# Confirm the data is scaled for 'energy' column\n",
    "\n",
    "plt.figure(figsize = (10, 5))\n",
    "\n",
    "plt.hist(CMS_calori_dataset_np_sub_scaled[:, 5], bins = 20, facecolor = 'grey', edgecolor = 'black', linewidth = 2)\n",
    "plt.xticks(fontsize=14)\n",
    "plt.yticks(fontsize=14)\n",
    "\n",
    "# Add proper x-label and y-label \n",
    "\n",
    "# YOUR CODE HERE \n",
    "\n",
    "print(CMS_calori_dataset_np_sub[0, 5])\n",
    "print(CMS_calori_dataset_np_sub_scaled[0, 5])\n",
    "\n",
    "plt.xlabel(\"Scaled Energy\")\n",
    "plt.ylabel(\"Count\")\n",
    "\n",
    "\n",
    "\n",
    "plt.show()"
   ]
  },
  {
   "cell_type": "markdown",
   "id": "f9fe6671",
   "metadata": {},
   "source": [
    "### Expected histogram outputs - Feel free to style your plot differently"
   ]
  },
  {
   "cell_type": "code",
   "execution_count": null,
   "id": "d9beb0ab",
   "metadata": {},
   "outputs": [],
   "source": [
    "Image('lab1_e1_expected_outputs.PNG', width = 1000)"
   ]
  },
  {
   "cell_type": "markdown",
   "id": "56c591a4-26cd-41f4-8e19-3d51ec623bbd",
   "metadata": {},
   "source": [
    "---"
   ]
  },
  {
   "cell_type": "code",
   "execution_count": null,
   "id": "39bb1ad2",
   "metadata": {},
   "outputs": [],
   "source": [
    "Image('lab1_exercise2.PNG', width = 1000)"
   ]
  },
  {
   "cell_type": "code",
   "execution_count": null,
   "id": "6b0a1422",
   "metadata": {},
   "outputs": [],
   "source": [
    "# Create the splitting function\n",
    "\n",
    "def split_data(arr, split_proportions, axis = 0):\n",
    "    # Check that proportions add up to 1.0\n",
    "    if np.sum(split_proportions) != 1:\n",
    "        print(\"Split proportions must sum to 1\")\n",
    "        return None\n",
    "   \n",
    "    # Get total size along the specified axis\n",
    "    size = arr.shape[axis]\n",
    "    \n",
    "    # When multiplied by the size and converted to int, we get the split points\n",
    "    # cumsum helps because .6, .2, .2 gives us .6, .8, 1.0. Sum just gives us 1\n",
    "    indices = (size * np.cumsum(split_proportions[:-1])).astype(int)  \n",
    "\n",
    "    # Split the array at calculated indices\n",
    "    split_data_list = np.split(arr, indices , axis)\n",
    "\n",
    "    return split_data_list"
   ]
  },
  {
   "cell_type": "code",
   "execution_count": null,
   "id": "546bbefb",
   "metadata": {},
   "outputs": [],
   "source": [
    "# Test your split function against scaled CMS Calorimieter dataset from exercise 1\n",
    "\n",
    "sub_data_list_1 = split_data(arr = CMS_calori_dataset_np_sub_scaled, \n",
    "                                    split_proportions = [0.6, 0.2, 0.2], axis = 0)"
   ]
  },
  {
   "cell_type": "code",
   "execution_count": null,
   "id": "d0e6e817",
   "metadata": {},
   "outputs": [],
   "source": [
    "# Confirm that dataset has been split into correct shapes\n",
    "# The correct dimensions should be (252, 6) (84, 6) (84, 6)\n",
    "\n",
    "print(sub_data_list_1[0].shape, sub_data_list_1[1].shape, sub_data_list_1[2].shape)"
   ]
  },
  {
   "cell_type": "code",
   "execution_count": null,
   "id": "8d2f53b1",
   "metadata": {},
   "outputs": [],
   "source": [
    "# Test your split function against scaled CMS Calorimieter dataset from exercise 1\n",
    "\n",
    "sub_data_list_2 = split_data(arr = CMS_calori_dataset_np_sub_scaled, \n",
    "                                                split_proportions = [0.5, 0.5], axis = 1)"
   ]
  },
  {
   "cell_type": "code",
   "execution_count": null,
   "id": "84dcf51a",
   "metadata": {},
   "outputs": [],
   "source": [
    "# Confirm that dataset has been split into correct shapes\n",
    "# The correct dimensions should be (420, 3) (420, 3)\n",
    "\n",
    "print(sub_data_list_2[0].shape, sub_data_list_2[1].shape)"
   ]
  },
  {
   "cell_type": "markdown",
   "id": "94119dfb-d3ec-467d-9841-7866e993f08f",
   "metadata": {},
   "source": [
    "---"
   ]
  },
  {
   "cell_type": "code",
   "execution_count": null,
   "id": "63998fb5-debd-44f2-b1bb-734725535a7f",
   "metadata": {},
   "outputs": [],
   "source": [
    "Image('lab1_exercise3.PNG', width = 1000)"
   ]
  },
  {
   "cell_type": "code",
   "execution_count": null,
   "id": "941ff9a9-b44d-463c-ba13-6c2fb8a81db8",
   "metadata": {},
   "outputs": [],
   "source": [
    "# Split data into 80% train and 20% test\n",
    "\n",
    "# Use our split function to divide data into training and testing sets\n",
    "CMS_split_data = split_data(arr = CMS_calori_dataset_np_sub_scaled, split_proportions = [0.8, 0.2], axis = 0)\n"
   ]
  },
  {
   "cell_type": "code",
   "execution_count": null,
   "id": "1949ab5a-9649-450f-8459-13b89b3ab1c6",
   "metadata": {},
   "outputs": [],
   "source": [
    "# Implement ridge regression function\n",
    "from sklearn.linear_model import Ridge\n",
    "from sklearn.metrics import mean_squared_error\n",
    "\n",
    "def ridge_regression(X_train, y_train, X_test, alpha):\n",
    "    # Create and train ridge regression model\n",
    "    ridge_model = Ridge(alpha=alpha)\n",
    "    ridge_model.fit(X_train, y_train)\n",
    "    y_pred = ridge_model.predict(X_test)\n",
    "\n",
    "    return y_pred"
   ]
  },
  {
   "cell_type": "code",
   "execution_count": null,
   "id": "6888305a-b3a1-444d-bd12-d0f23bdfe051",
   "metadata": {},
   "outputs": [],
   "source": [
    "# Produce prediction for test data with alpha = 1\n",
    "\n",
    "# Extract training and test sets from split data\n",
    "CMS_train = CMS_split_data[0]\n",
    "CMS_test = CMS_split_data[1]\n",
    "\n",
    "# Separate features (x,y,z,eta,phi) and target (energy)\n",
    "X_train = CMS_train[:, 0:5]  # First 5 columns are features\n",
    "y_train = CMS_train[:, 5]    # Last column is energy (target)\n",
    "X_test = CMS_test[:, 0:5]\n",
    "y_test = CMS_test[:, 5]\n",
    "\n",
    "# Train model and make predictions\n",
    "y_pred = ridge_regression(X_train, y_train, X_test, alpha = 1)\n"
   ]
  },
  {
   "cell_type": "code",
   "execution_count": null,
   "id": "dde3cf44-0976-4ae0-aa5c-d576750c988a",
   "metadata": {},
   "outputs": [],
   "source": [
    "# Re-scale the ground-truth and predicted energy values to original scale\n",
    "\n",
    "# Get original energy statistics for rescaling\n",
    "original_energy_data = CMS_calori_dataset_np_sub[:, 5]\n",
    "energy_mean = np.mean(original_energy_data)\n",
    "energy_std = np.std(original_energy_data)\n",
    "\n",
    "# Convert scaled values back to original scale\n",
    "y_test_rescaled = y_test * energy_std + energy_mean\n",
    "y_pred_rescaled = y_pred * energy_std + energy_mean\n"
   ]
  },
  {
   "cell_type": "code",
   "execution_count": null,
   "id": "7e969c22-af6a-40b1-bef6-bfb675f61dc7",
   "metadata": {},
   "outputs": [],
   "source": [
    "# Print RMSE error between ground-truth and predictions\n",
    "\n",
    "# Root Mean Squared Error\n",
    "rmse = np.sqrt(mean_squared_error(y_test_rescaled, y_pred_rescaled))\n",
    "\n",
    "print(rmse)"
   ]
  },
  {
   "cell_type": "code",
   "execution_count": null,
   "id": "e6615d0a-6bdc-4a47-b4ed-b9d71c0b2768",
   "metadata": {},
   "outputs": [],
   "source": [
    "# Plot ground-truth and predicted energy values overlaid on top on each other in a single plot\n",
    "\n",
    "# Create scatter plot of actual vs predicted values\n",
    "plt.scatter(y_test, y_pred)\n",
    "lims = [min(y_test.min(), y_pred.min()), max(y_test.max(), y_pred.max())]\n",
    "plt.plot(lims, lims, 'r--', lw=2)  # Perfect prediction line\n",
    "plt.title(\"Ridge Regression: Actual vs Predicted Energy\")\n",
    "plt.xlabel('Actual Energy')\n",
    "plt.ylabel('Predicted Energy')\n",
    "plt.grid(True)\n"
   ]
  },
  {
   "cell_type": "code",
   "execution_count": null,
   "id": "af9fff2e",
   "metadata": {},
   "outputs": [],
   "source": []
  }
 ],
 "metadata": {
  "kernelspec": {
   "display_name": "Python 3",
   "language": "python",
   "name": "python3"
  },
  "language_info": {
   "codemirror_mode": {
    "name": "ipython",
    "version": 3
   },
   "file_extension": ".py",
   "mimetype": "text/x-python",
   "name": "python",
   "nbconvert_exporter": "python",
   "pygments_lexer": "ipython3",
   "version": "3.13.5"
  }
 },
 "nbformat": 4,
 "nbformat_minor": 5
}
