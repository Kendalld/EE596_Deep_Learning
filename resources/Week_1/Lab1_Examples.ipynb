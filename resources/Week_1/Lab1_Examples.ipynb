{
 "cells": [
  {
   "cell_type": "markdown",
   "id": "2c65cd19",
   "metadata": {},
   "source": [
    "# <span style='color:blue'> LAB 1: </span>\n",
    "# <span style='color:blue'> PYTHON FOUNDATION & REGRESSION </span>"
   ]
  },
  {
   "cell_type": "markdown",
   "id": "b12d4c04",
   "metadata": {},
   "source": [
    "# <span style='color:red'> Part 1: Getting started </span>"
   ]
  },
  {
   "cell_type": "markdown",
   "id": "d49f221c",
   "metadata": {},
   "source": [
    "### 1.1 - Code vs Markdown cells"
   ]
  },
  {
   "cell_type": "code",
   "execution_count": 1,
   "id": "6f2f4196",
   "metadata": {},
   "outputs": [],
   "source": [
    "# This is a code cell\n",
    "# The # indicates a comment, so this cell does nothing"
   ]
  },
  {
   "cell_type": "markdown",
   "id": "7e3600fd",
   "metadata": {},
   "source": [
    "### This is a markdown cell\n",
    "\n",
    "### Markdown Cheatsheet https://www.markdownguide.org/cheat-sheet/ "
   ]
  },
  {
   "cell_type": "markdown",
   "id": "ce01c00d",
   "metadata": {},
   "source": [
    "### 1.2 - Importing package"
   ]
  },
  {
   "cell_type": "code",
   "execution_count": 2,
   "id": "cdd920a0",
   "metadata": {},
   "outputs": [],
   "source": [
    "import numpy as np"
   ]
  },
  {
   "cell_type": "markdown",
   "id": "9c326e66",
   "metadata": {},
   "source": [
    "# <span style='color:red'> Part 2: Python Basics </span>"
   ]
  },
  {
   "cell_type": "markdown",
   "id": "757373c2",
   "metadata": {},
   "source": [
    "### 2.1 - Data Types and Variables"
   ]
  },
  {
   "cell_type": "code",
   "execution_count": null,
   "id": "0bd5dd9b",
   "metadata": {},
   "outputs": [],
   "source": [
    "x = 1\n",
    "print(x)             # variable 'x' holds value 1, an integer type\n",
    "\n",
    "y = 2.5\n",
    "print(y)             # variable 'y' holds value 2.5, a float type\n",
    "\n",
    "z = True\n",
    "print(z)             # variable 'z' holds value True, a boolean type\n",
    "\n",
    "s = 'hello'\n",
    "print(s)             # variable 's' holds value 'hello', a string type"
   ]
  },
  {
   "cell_type": "markdown",
   "id": "7f941104",
   "metadata": {},
   "source": [
    "### 2.2 - Printing variables"
   ]
  },
  {
   "cell_type": "code",
   "execution_count": null,
   "id": "42910168",
   "metadata": {},
   "outputs": [],
   "source": [
    "var1 = 2021\n",
    "var2 = 'Fall'\n",
    "\n",
    "print(var1)            # Print single variable\n",
    "print(var1, var2)      # Print multiple variable (separated by comma)"
   ]
  },
  {
   "cell_type": "code",
   "execution_count": null,
   "id": "a8d1f4cb",
   "metadata": {},
   "outputs": [],
   "source": [
    "var1\n",
    "var1, var2             # Notebook will also output the last variable on the line by default"
   ]
  },
  {
   "cell_type": "markdown",
   "id": "679fab28",
   "metadata": {},
   "source": [
    "### 2.2 - Numbers"
   ]
  },
  {
   "cell_type": "code",
   "execution_count": null,
   "id": "0ccfb9b4",
   "metadata": {},
   "outputs": [],
   "source": [
    "num1 = 1          # Integer\n",
    "num2 = 1.6        # Float\n",
    "num3 = 2 + 6j     # Complex\n",
    "\n",
    "# You can print out strings using either single or double quotes\n",
    "\n",
    "print(\"Values of numbers:\", num1,num2,num3)                                    # value display\n",
    "print('and corresponding types:', type(num1), type(num2), type(num3))          # type() displays the data type"
   ]
  },
  {
   "cell_type": "markdown",
   "id": "765ef391",
   "metadata": {},
   "source": [
    "### 2.3 - Booleans"
   ]
  },
  {
   "cell_type": "code",
   "execution_count": null,
   "id": "36899c23",
   "metadata": {},
   "outputs": [],
   "source": [
    "bool1 = True      # Booleans should have their first letter capitalized\n",
    "bool2 = False\n",
    "\n",
    "print(\"Values of Boolean variables:\",bool1,bool2)\n",
    "print(type(bool1), type(bool2))"
   ]
  },
  {
   "cell_type": "markdown",
   "id": "6dd84e5c",
   "metadata": {},
   "source": [
    "### 2.4 - Strings"
   ]
  },
  {
   "cell_type": "code",
   "execution_count": null,
   "id": "6cf5a67e",
   "metadata": {},
   "outputs": [],
   "source": [
    "str1 = 'Go Huskies!'\n",
    "\n",
    "# len(var) displays the length of 'var' if it has length attribute\n",
    "# length of a string is the number of characters\n",
    "\n",
    "print('A string, its type and length:', str1, type(str1), len(str1))"
   ]
  },
  {
   "cell_type": "markdown",
   "id": "1c210311",
   "metadata": {},
   "source": [
    "### 2.5 - Grouping data with Lists"
   ]
  },
  {
   "cell_type": "code",
   "execution_count": null,
   "id": "30e31e80",
   "metadata": {},
   "outputs": [],
   "source": [
    "list_1 = [1, 2, 3]                                 # list of numbers\n",
    "print(list_1)\n",
    "\n",
    "list_2 = ['Hello', 'World']                        # list of strings\n",
    "print(list_2)\n",
    "\n",
    "list_3 = [1, 2, 3, 'Apple', 'orange']              # list of numbers + strings\n",
    "print(list_3)\n",
    "\n",
    "list_4 = [list_1, list_2]                          # list of lists\n",
    "print(list_4)"
   ]
  },
  {
   "cell_type": "markdown",
   "id": "c5ee0e63",
   "metadata": {},
   "source": [
    "### 2.6 - Indexing lists"
   ]
  },
  {
   "cell_type": "code",
   "execution_count": null,
   "id": "02bc71cc",
   "metadata": {},
   "outputs": [],
   "source": [
    "print(list_3[0])                                    # Indexing 1st element of the list (in Python, index 0 -> 1st element)\n",
    "\n",
    "print(list_3[2])                                    # Indexing 3rd element\n",
    "\n",
    "print(list_3[:3])                                   # Indexing first three elements\n",
    "\n",
    "print(list_3[-1])                                   # Indexing last element\n",
    "\n",
    "print(list_3[-3:])                                  # Indexing last three elements\n",
    "\n",
    "print(list_3[2:])         "
   ]
  },
  {
   "cell_type": "code",
   "execution_count": null,
   "id": "56f9f824",
   "metadata": {},
   "outputs": [],
   "source": [
    "num_list = [1,2,3,4,5,6,7,8,9,10]\n",
    "\n",
    "print(num_list[0::2])                               # Starting from 1st element, skip every 1 element\n",
    "\n",
    "print(num_list[0::3])                               # Starting from 1st element, skip every 2 elements\n",
    "\n",
    "print(num_list[1::3])                               # Starting from 2nd element, skip every 2 elements\n",
    "\n",
    "print(num_list[1:6:2])    "
   ]
  },
  {
   "cell_type": "markdown",
   "id": "dbdfcad2",
   "metadata": {},
   "source": [
    "### 2.7 - Append, insert, delete elements to lists "
   ]
  },
  {
   "cell_type": "code",
   "execution_count": null,
   "id": "b83db025",
   "metadata": {},
   "outputs": [],
   "source": [
    "list_3_clone_1 = list_3.copy()                      # .copy() creates a duplicate variable\n",
    "list_3_clone_1.append(4)                            # .append() adds an item at the end of the list\n",
    "print(list_3_clone_1)\n",
    "\n",
    "list_3_clone_2 = list_3.copy()\n",
    "list_3_clone_2.insert(2, 'pineapple')               # Inserting a string 'pineapple' into 2nd index\n",
    "print(list_3_clone_2)\n",
    "\n",
    "list_3_clone_3 = list_3.copy() \n",
    "del list_3_clone_3[2]                               # Deleting 3rd element (2nd index) from the list\n",
    "print(list_3_clone_3)"
   ]
  },
  {
   "cell_type": "markdown",
   "id": "e63bcb38",
   "metadata": {},
   "source": [
    "### 2.8 - Empty list and element check"
   ]
  },
  {
   "cell_type": "code",
   "execution_count": null,
   "id": "3196eeec",
   "metadata": {},
   "outputs": [],
   "source": [
    "empty_list = []                                     # Construct an empty list\n",
    "empty_list.append(5)                                # Append 5 to the list\n",
    "print(empty_list)\n",
    "print(5 in empty_list)  "
   ]
  },
  {
   "cell_type": "markdown",
   "id": "8afff986",
   "metadata": {},
   "source": [
    "### 2.9 - Arithmatic operators"
   ]
  },
  {
   "cell_type": "code",
   "execution_count": null,
   "id": "18ae0e4a",
   "metadata": {},
   "outputs": [],
   "source": [
    "float1, float2 = 5.4, 8.9                            # You can assign multiple variables in a single line with 'comma'\n",
    "print(float1 + float2)                               # Addition\n",
    "\n",
    "print(float1 - float2)                               # Subtraction\n",
    "\n",
    "print(float1 * float2)                               # Multiplication\n",
    "\n",
    "print(float1**2)                                     # Exponential\n",
    "\n",
    "print(float1 / float2)                               # Division\n",
    "\n",
    "float3, float4 = 10., 3.                             \n",
    "print(float3 % float4)        "
   ]
  },
  {
   "cell_type": "markdown",
   "id": "15977379",
   "metadata": {},
   "source": [
    "### 2.10 - Comparison operators"
   ]
  },
  {
   "cell_type": "code",
   "execution_count": null,
   "id": "327134d5",
   "metadata": {},
   "outputs": [],
   "source": [
    "print(5 < 3)                                         # Greater Than\n",
    "\n",
    "print(5 > 3)                                         # Less Than\n",
    "\n",
    "print(5 >= 3)                                        # Greater Than or Equal to\n",
    "\n",
    "print(5 <= 3)                                        # Less Than or Equal to\n",
    "\n",
    "print(5 == 3)                                        # Equivalent to\n",
    "\n",
    "print(5 != 3)                                        # Not Equivalent to"
   ]
  },
  {
   "cell_type": "markdown",
   "id": "1d52d3d8",
   "metadata": {},
   "source": [
    "### 2.11 - Assignment operators"
   ]
  },
  {
   "cell_type": "code",
   "execution_count": null,
   "id": "af720d41",
   "metadata": {},
   "outputs": [],
   "source": [
    "var1 = 3\n",
    "var1 += 3                                            # Add and Assign\n",
    "print(var1)\n",
    "\n",
    "var2 = 4 \n",
    "var2 -= 1                                            # Subtract and Assign\n",
    "print(var2)                \n",
    "\n",
    "var3 = 5\n",
    "var3 *= 1.5                                          # Multiply and Assign\n",
    "print(var3)\n",
    "\n",
    "var4 = 6\n",
    "var4 /= 2                                            # Divide and Assign\n",
    "print(var4)"
   ]
  },
  {
   "cell_type": "markdown",
   "id": "4fe8646f",
   "metadata": {},
   "source": [
    "### 2.12 - Logical operators"
   ]
  },
  {
   "cell_type": "code",
   "execution_count": null,
   "id": "3bf3ffdd",
   "metadata": {},
   "outputs": [],
   "source": [
    "bool1, bool2 = True, False\n",
    "print(bool1 or bool2)                                 # OR operator\n",
    "\n",
    "print(bool1 and bool2)                                # AND operator\n",
    "\n",
    "print(not bool1)         "
   ]
  },
  {
   "cell_type": "markdown",
   "id": "f0f0b009",
   "metadata": {},
   "source": [
    "### 2.13 Conditional Statements"
   ]
  },
  {
   "cell_type": "code",
   "execution_count": null,
   "id": "5b171248",
   "metadata": {},
   "outputs": [],
   "source": [
    "# if statement\n",
    "\n",
    "# Define variables\n",
    "num1 = 10 \n",
    "num2 = 20\n",
    "\n",
    "# IF Conditional statement\n",
    "if num1 < num2: # equivalently, if (num1 < num2) == True\n",
    "    \n",
    "    print('num2 is larger than num1')"
   ]
  },
  {
   "cell_type": "code",
   "execution_count": null,
   "id": "f65fd56e",
   "metadata": {},
   "outputs": [],
   "source": [
    "# if-else statement\n",
    "\n",
    "# Define variables\n",
    "num1 = 20\n",
    "num2 = 10\n",
    "\n",
    "# IF-ELSE Conditional statement\n",
    "if num1 < num2:\n",
    "    \n",
    "    print('num2 is larger than num1')\n",
    "    \n",
    "else:\n",
    "    \n",
    "    print('num2 is less or equal to num1')"
   ]
  },
  {
   "cell_type": "code",
   "execution_count": null,
   "id": "e09efa5a",
   "metadata": {},
   "outputs": [],
   "source": [
    "# if-elif-else statement\n",
    "\n",
    "# Define variables\n",
    "num1 = 20\n",
    "\n",
    "# IF-ELIF-ELSE Conditional statement\n",
    "if type(num1) == float:\n",
    "    \n",
    "    print('num1 is float')\n",
    "    \n",
    "elif type(num1) == bool:\n",
    "    \n",
    "    print('num1 is boolean')\n",
    "    \n",
    "else:\n",
    "    \n",
    "    print('num1 is neither float nor boolean')"
   ]
  },
  {
   "cell_type": "markdown",
   "id": "a8f21fb6",
   "metadata": {},
   "source": [
    "### 2.14 Loops"
   ]
  },
  {
   "cell_type": "code",
   "execution_count": null,
   "id": "897f471a",
   "metadata": {},
   "outputs": [],
   "source": [
    "# For loop - Iterate through sequence\n",
    "\n",
    "for i in range(1, 11):  # A sequence from 1 to 10\n",
    "    \n",
    "    if i % 2 == 0:\n",
    "        print(i, \" is even\")\n",
    "    else:\n",
    "        print(i, \" is odd\")"
   ]
  },
  {
   "cell_type": "code",
   "execution_count": null,
   "id": "972c4854",
   "metadata": {},
   "outputs": [],
   "source": [
    "# For loop - Iterate through list elements\n",
    "\n",
    "float_list = [2.5, 16.42, 10.77, 8.3, 34.21]\n",
    "\n",
    "for num in float_list:  # Iterator goes through each item in the list\n",
    "    print([num, num * 2])"
   ]
  },
  {
   "cell_type": "code",
   "execution_count": null,
   "id": "773fecd6",
   "metadata": {},
   "outputs": [],
   "source": [
    "# While loop\n",
    "\n",
    "# Define a list of numbers\n",
    "number_list = [1,2,3,4,5,6,7,8,9,10]\n",
    "\n",
    "# Initialize the iterator with 0\n",
    "k = 0\n",
    "\n",
    "while number_list[k] < 5:\n",
    "    \n",
    "    powered = number_list[k] ** 2 # Squaring the k-th element in the list\n",
    "    \n",
    "    print(powered) # Print squared value\n",
    "    \n",
    "    k += 1 # add 1 to k using assignment operator"
   ]
  },
  {
   "cell_type": "markdown",
   "id": "f6cb89e9",
   "metadata": {},
   "source": [
    "### 2.15 Functions"
   ]
  },
  {
   "cell_type": "code",
   "execution_count": null,
   "id": "fd599d17",
   "metadata": {},
   "outputs": [],
   "source": [
    "# Defining a function\n",
    "\n",
    "def find_smaller_number(num1, num2):\n",
    "    \n",
    "    # IF-ELIF-ELSE conditions\n",
    "    if num1 < num2:\n",
    "        minimum = num1\n",
    "        \n",
    "    elif num1 == num2:\n",
    "        minimum = 'two numbers are equal'\n",
    "        \n",
    "    else:\n",
    "        minimum = num2\n",
    "        \n",
    "    return minimum    "
   ]
  },
  {
   "cell_type": "code",
   "execution_count": null,
   "id": "6b9266c6",
   "metadata": {},
   "outputs": [],
   "source": [
    "minimum = find_smaller_number(num1 = 5, num2 = 17)\n",
    "print(minimum)"
   ]
  },
  {
   "cell_type": "markdown",
   "id": "ccbe8bed",
   "metadata": {},
   "source": [
    "# <span style='color:red'> Part 3: Numpy and Plotting </span>"
   ]
  },
  {
   "cell_type": "markdown",
   "id": "036e5027",
   "metadata": {},
   "source": [
    "### 3.1 Consturcting numpy arrays"
   ]
  },
  {
   "cell_type": "code",
   "execution_count": null,
   "id": "dd1bd113",
   "metadata": {},
   "outputs": [],
   "source": [
    "# From Python lists\n",
    "\n",
    "import numpy as np\n",
    "\n",
    "# 1D array\n",
    "arr = np.array([1,2,3,4,5]) \n",
    "\n",
    "# 2D array\n",
    "arr_2d = np.array([[1,2,3,4,5],\n",
    "                  [6,7,8,9,10],\n",
    "                  [11,12,13,14,15]])\n",
    "\n",
    "\n",
    "print(\"Array dimensions: \", arr.shape) \n",
    "print(\"Array dimensions: \", arr_2d.shape)\n",
    "print(\"Array type: \", type(arr))      "
   ]
  },
  {
   "cell_type": "code",
   "execution_count": null,
   "id": "758c765a",
   "metadata": {},
   "outputs": [],
   "source": [
    "# From Numpy commands\n",
    "\n",
    "# Define number of each dimension \n",
    "n1 = 3\n",
    "n2 = 4\n",
    "\n",
    "# Zeros array\n",
    "zeros_1d = np.zeros(n1)\n",
    "zeros_2d = np.zeros((n1,n2)) \n",
    "\n",
    "# Ones array\n",
    "ones_1d = np.ones(n1)\n",
    "ones_2d = np.ones((n1,n2))\n",
    "\n",
    "# Creating array using np.arange\n",
    "arr_arange = np.arange(0, 10, 1)     # (start, stop, stepsize)\n",
    "\n",
    "# Creating an array using np.linspace\n",
    "arr_linspace = np.linspace(0, 9, 10) # (start, stop, # of bins)\n",
    "\n",
    "print(\"1D zeros array: \", zeros_1d)\n",
    "print(\"1D ones array: \", ones_1d)\n",
    "print(\"Number sequence from 0 to 9 using arange: \", arr_arange)\n",
    "print(\"Number sequence from 0 to 9 using linspace: \", arr_linspace)"
   ]
  },
  {
   "cell_type": "markdown",
   "id": "62a8040a",
   "metadata": {},
   "source": [
    "### 3.2 Slicing Arrays (1D)"
   ]
  },
  {
   "cell_type": "code",
   "execution_count": null,
   "id": "47fc69ab",
   "metadata": {},
   "outputs": [],
   "source": [
    "arr_1d_seq = np.arange(5)                                      # Sample 1D array\n",
    "\n",
    "print(arr_1d_seq)                                     "
   ]
  },
  {
   "cell_type": "code",
   "execution_count": null,
   "id": "a5e8b24c",
   "metadata": {},
   "outputs": [],
   "source": [
    "print(arr_1d_seq[2:], arr_1d_seq[-3:])                         # Retrieves last 3 elements"
   ]
  },
  {
   "cell_type": "code",
   "execution_count": null,
   "id": "62889cd9",
   "metadata": {},
   "outputs": [],
   "source": [
    "print(arr_1d_seq[:3], arr_1d_seq[:-2])                         # Retrieves first 3 elements"
   ]
  },
  {
   "cell_type": "code",
   "execution_count": null,
   "id": "185154bc",
   "metadata": {},
   "outputs": [],
   "source": [
    "print(arr_1d_seq[1:4], arr_1d_seq[-4:-1])                      # Retrieves 2nd - 4th elements"
   ]
  },
  {
   "cell_type": "code",
   "execution_count": null,
   "id": "7aac0d9a",
   "metadata": {},
   "outputs": [],
   "source": [
    "print(arr_1d_seq[4], arr_1d_seq[-1])                           # Retrieves last element"
   ]
  },
  {
   "cell_type": "markdown",
   "id": "31a1b315",
   "metadata": {},
   "source": [
    "### 3.3 Slicing Arrays (2D)"
   ]
  },
  {
   "cell_type": "code",
   "execution_count": null,
   "id": "2c0a5063",
   "metadata": {},
   "outputs": [],
   "source": [
    "arr_seq_1 = np.arange(5)\n",
    "arr_seq_2 = np.arange(5, 10)\n",
    "arr_seq_3 = np.arange(10, 15)\n",
    "arr_seq_4 = np.arange(15, 20)\n",
    "arr_seq_5 = np.arange(20, 25)\n",
    "\n",
    "arr_2d_seq = np.vstack([arr_seq_1, arr_seq_2, arr_seq_3, arr_seq_4, arr_seq_5])\n",
    "print(arr_2d_seq)                                              # Sample 2D matrix"
   ]
  },
  {
   "cell_type": "code",
   "execution_count": null,
   "id": "cbc050f2",
   "metadata": {},
   "outputs": [],
   "source": [
    "print(arr_2d_seq[:3])                                         # Retrieves first 3 rows\n",
    "print(arr_2d_seq[:3, :])                                      \n",
    "print(arr_2d_seq[:-2])                                        \n",
    "print(arr_2d_seq[:-2, :])                                     "
   ]
  },
  {
   "cell_type": "code",
   "execution_count": null,
   "id": "6b6c19bc",
   "metadata": {},
   "outputs": [],
   "source": [
    "print(arr_2d_seq[2:])                                         # Retrieves last 3 rows\n",
    "print(arr_2d_seq[2:, :])                                      \n",
    "print(arr_2d_seq[-3:])                                        \n",
    "print(arr_2d_seq[-3:, :])"
   ]
  },
  {
   "cell_type": "code",
   "execution_count": null,
   "id": "688f4b32",
   "metadata": {},
   "outputs": [],
   "source": [
    "print(arr_2d_seq[:, 1:4])                                     # Retrieves 2nd - 4th columns                            \n",
    "print(arr_2d_seq[:, -4:-1])                                        "
   ]
  },
  {
   "cell_type": "code",
   "execution_count": null,
   "id": "7989b221",
   "metadata": {},
   "outputs": [],
   "source": [
    "print(arr_2d_seq[4])                                         # Retrieves last row\n",
    "print(arr_2d_seq[4, :])                                      \n",
    "print(arr_2d_seq[-1])                                        \n",
    "print(arr_2d_seq[-1, :])       "
   ]
  },
  {
   "cell_type": "markdown",
   "id": "7d4a192e",
   "metadata": {},
   "source": [
    "### 3.3 Numpy arithmatic operators"
   ]
  },
  {
   "cell_type": "code",
   "execution_count": null,
   "id": "da6c8434",
   "metadata": {},
   "outputs": [],
   "source": [
    "arr_1 = np.arange(0, 10, 1)  # 0 to 9\n",
    "arr_2 = np.arange(10, 20, 1) # 10 to 19\n",
    "\n",
    "print(\"arr_1 + arr_2:\", np.add(arr_1, arr_2))                  # Addition  (you can also use arr_1 + arr_2)\n",
    "\n",
    "print(\"arr_1 - arr_2:\", np.subtract(arr_1, arr_2))             # Subtraction (you can also use arr_1 - arr_2)\n",
    "\n",
    "print(\"arr_1 * arr_2:\", np.multiply(arr_1, arr_2))             # Multiplication (you can also use arr_1 * arr_2)\n",
    "\n",
    "print(\"exp(arr_1):\", np.exp(arr_1)[:5]) # Print first 5        # Exponential\n",
    "\n",
    "print(\"arr_1 / arr_2:\", np.divide(arr_1, arr_2)[:5])           # Division (you can also use arr_1 / arr_2)\n",
    "\n",
    "print(\"10 % 3:\", np.mod(10, 3))                                # Modulo"
   ]
  },
  {
   "cell_type": "markdown",
   "id": "d408d498",
   "metadata": {},
   "source": [
    "### 3.3 Math operators with Numpy"
   ]
  },
  {
   "cell_type": "code",
   "execution_count": null,
   "id": "ee3fe82a",
   "metadata": {},
   "outputs": [],
   "source": [
    "x_arr = np.array([1,2,3])\n",
    "\n",
    "print(np.sin(x_arr))                                               # Sine \n",
    "\n",
    "print(np.cos(x_arr))                                               # Cosine\n",
    "\n",
    "print(np.tan(x_arr))                                               # Tangent\n",
    "\n",
    "print(np.pi)                                                       # Pi\n",
    "\n",
    "print(np.sqrt(x_arr))                                              # Square root\n",
    "\n",
    "print(np.exp(x_arr))                                               # Exponential"
   ]
  },
  {
   "cell_type": "markdown",
   "id": "b15ab09b",
   "metadata": {},
   "source": [
    "### 3.4 Combining Arrays"
   ]
  },
  {
   "cell_type": "code",
   "execution_count": null,
   "id": "20c6725d",
   "metadata": {},
   "outputs": [],
   "source": [
    "print(np.concatenate([arr_1, arr_2]))                              # Concatenate two arrays\n",
    "\n",
    "print(np.stack([arr_1, arr_2]))                                    # Stack two arrays along new dimension\n",
    "\n",
    "print(np.hstack([arr_1, arr_2]))                                   # Horizontally stack two arrays\n",
    "\n",
    "print(np.vstack([arr_1, arr_2]))                                   # Vertically stack two arrays"
   ]
  },
  {
   "cell_type": "code",
   "execution_count": null,
   "id": "8040988a",
   "metadata": {},
   "outputs": [],
   "source": [
    "arr2d_1 = np.zeros((3,3))\n",
    "arr2d_2 = np.ones((3,3))\n",
    "\n",
    "print(np.concatenate([arr2d_1, arr2d_2]))                          # Concatenate two arrays (2D)\n",
    "\n",
    "print(np.stack([arr2d_1, arr2d_2]))                                # Stack two arrays along new dimension (2D)\n",
    "\n",
    "print(np.hstack([arr2d_1, arr2d_2]))                               # Horizontally stack two arrays (2D)\n",
    "\n",
    "print(np.vstack([arr2d_1, arr2d_2]))                               # Vertically stack two arrays (2D)"
   ]
  },
  {
   "cell_type": "markdown",
   "id": "7022b068",
   "metadata": {},
   "source": [
    "### 3.5 Array Splitting"
   ]
  },
  {
   "cell_type": "code",
   "execution_count": null,
   "id": "9e643081",
   "metadata": {},
   "outputs": [],
   "source": [
    "array_2d_0 = np.arange(0, 4)\n",
    "array_2d_1 = np.arange(4, 8)\n",
    "array_2d_2 = np.arange(8, 12)\n",
    "array_2d_3 = np.arange(12, 16)\n",
    "\n",
    "array_2d = np.vstack([array_2d_0, array_2d_1, array_2d_2, array_2d_3]) # Sample 2D array to be split\n",
    "print(array_2d)"
   ]
  },
  {
   "cell_type": "code",
   "execution_count": null,
   "id": "d95a08c9",
   "metadata": {},
   "outputs": [],
   "source": [
    "print(np.split(array_2d, 2, axis = 0))                                 # General split function"
   ]
  },
  {
   "cell_type": "code",
   "execution_count": null,
   "id": "8b2e4f15",
   "metadata": {},
   "outputs": [],
   "source": [
    "print(np.hsplit(array_2d, 2))                                          # Horizontal split function"
   ]
  },
  {
   "cell_type": "code",
   "execution_count": null,
   "id": "779b76ab",
   "metadata": {},
   "outputs": [],
   "source": [
    "print(np.vsplit(array_2d, 2))                                          # Vertical split function"
   ]
  },
  {
   "cell_type": "code",
   "execution_count": null,
   "id": "486b28b3",
   "metadata": {},
   "outputs": [],
   "source": [
    "array_2d_tall = np.random.uniform(low = 0, high = 1, size = (100, 20))\n",
    "array_2d_fat = np.random.uniform(low = 0, high = 1, size = (20, 100))\n",
    "\n",
    "print(array_2d_tall.shape, array_2d_fat.shape )"
   ]
  },
  {
   "cell_type": "code",
   "execution_count": null,
   "id": "6d0975af",
   "metadata": {},
   "outputs": [],
   "source": [
    "array_2d_tall_subs = np.split(array_2d_tall, [40, 80, 100], axis = 0)\n",
    "print(array_2d_tall_subs[0].shape, array_2d_tall_subs[1].shape, array_2d_tall_subs[2].shape)"
   ]
  },
  {
   "cell_type": "code",
   "execution_count": null,
   "id": "0603d07a",
   "metadata": {},
   "outputs": [],
   "source": [
    "array_2d_fat_subs = np.split(array_2d_fat, [20, 60, 100], axis = 1)\n",
    "print(array_2d_fat_subs[0].shape, array_2d_fat_subs[1].shape, array_2d_fat_subs[2].shape)"
   ]
  },
  {
   "cell_type": "markdown",
   "id": "a3f4250e",
   "metadata": {},
   "source": [
    "### 3.6 Useful Numpy operations: Characteristic values of arrays"
   ]
  },
  {
   "cell_type": "code",
   "execution_count": null,
   "id": "aa334026",
   "metadata": {},
   "outputs": [],
   "source": [
    "print(np.min(arr_1))                                               # Minimum value \n",
    "\n",
    "print(np.max(arr_1))                                               # Maximum value \n",
    "\n",
    "print(np.mean(arr_1))                                              # Mean value\n",
    "\n",
    "print(np.sum(arr_1))                                               # Summed value"
   ]
  },
  {
   "cell_type": "markdown",
   "id": "8a0d2cbf",
   "metadata": {},
   "source": [
    "### 3.7 Useful Numpy operations: Indexing arrays"
   ]
  },
  {
   "cell_type": "code",
   "execution_count": null,
   "id": "6ddb8645",
   "metadata": {},
   "outputs": [],
   "source": [
    "arr_3 = np.array([4,2,6,7,8,9,3])\n",
    "\n",
    "print(np.argmin(arr_3))                                            # Minimum value index\n",
    "\n",
    "print(np.argmax(arr_3))                                            # Maximum value index\n",
    "\n",
    "print(np.argsort(arr_3))                                           # Sort indicies according to low value to high value\n",
    "\n",
    "print(np.where(arr_3 < 7))                                         # Find indices satisfying a condition"
   ]
  },
  {
   "cell_type": "markdown",
   "id": "ab276db9",
   "metadata": {},
   "source": [
    "### 3.8 Basic plotting"
   ]
  },
  {
   "cell_type": "code",
   "execution_count": 5,
   "id": "6ff536e7",
   "metadata": {},
   "outputs": [],
   "source": [
    "#%matplotlib inline   # If using local notebook runtime, allows you to display the plot inside the jupyter notebook\n",
    "#%matplotlib notebook # Alternatively, you can use this line instead for interactive plots\n",
    "\n",
    "import matplotlib.pyplot as plt"
   ]
  },
  {
   "cell_type": "code",
   "execution_count": null,
   "id": "86c5326d",
   "metadata": {},
   "outputs": [],
   "source": [
    "x = np.arange(0, 10, 1/32) # x axis data\n",
    "y = np.sin(x)              # y axis data\n",
    "plt.plot(x, y)             # plot the data\n",
    "plt.show()"
   ]
  },
  {
   "cell_type": "markdown",
   "id": "62132bb3",
   "metadata": {},
   "source": [
    "### 3.9 Labeling your plots"
   ]
  },
  {
   "cell_type": "code",
   "execution_count": null,
   "id": "9e4c8842-2f25-4fae-981c-299f95793ff0",
   "metadata": {},
   "outputs": [],
   "source": [
    "import seaborn as sns"
   ]
  },
  {
   "cell_type": "code",
   "execution_count": null,
   "id": "30381691",
   "metadata": {},
   "outputs": [],
   "source": [
    "plt.plot(x, y) \n",
    "plt.title('y=sin(x)')      # set the title\n",
    "plt.xlabel('x')            # set the x axis label\n",
    "plt.ylabel('y')            # set the y axis label\n",
    "plt.xlim(-1, 11)           # set the x axis range\n",
    "plt.ylim(-2, 2)            # set the y axis range\n",
    "plt.grid()                 # enable the grid\n",
    "plt.show()"
   ]
  },
  {
   "cell_type": "markdown",
   "id": "0fad9fec",
   "metadata": {},
   "source": [
    "### 3.10 Multiple plots"
   ]
  },
  {
   "cell_type": "code",
   "execution_count": null,
   "id": "dd78a6e4",
   "metadata": {},
   "outputs": [],
   "source": [
    "# Multiple Plots\n",
    "# On same figure \n",
    "x = np.arange(0, 10, 1/32) # x axis data\n",
    "y1 = np.sin(x)             # y axis data 1\n",
    "y2 = np.cos(x)             # y axis data 2\n",
    "y3 = np.tan(x)             # y axis data 3\n",
    "plt.figure(1)              # create figure 1\n",
    "plt.plot(x, y1, label='sin(x)')\n",
    "plt.plot(x, y2, label='cos(x)')\n",
    "plt.plot(x, y3, label='tan(x)')\n",
    "plt.xlabel('x')\n",
    "plt.ylabel('y')\n",
    "plt.xlim(-1, 11)\n",
    "plt.ylim(-2, 2)\n",
    "plt.suptitle('Trigonometric Functions')\n",
    "plt.legend()\n",
    "plt.show()\n"
   ]
  },
  {
   "cell_type": "markdown",
   "id": "0696fb25",
   "metadata": {},
   "source": [
    "### 3.11 Subplots"
   ]
  },
  {
   "cell_type": "code",
   "execution_count": null,
   "id": "50afc552",
   "metadata": {},
   "outputs": [],
   "source": [
    "# Multiple Subplots\n",
    "x = np.arange(0, 10, 1/32) # x axis data\n",
    "y1 = np.sin(x)             # y axis data for subplot 1\n",
    "y2 = np.cos(x)             # y axis data for subplot 2\n",
    "y3 = np.tan(x)             # y axis data for subplot 3\n",
    "\n",
    "fig = plt.figure(2,figsize=(8,8)) # create figure 2\n",
    "\n",
    "plt.subplot(311)           # (number of rows, number of columns, current plot)\n",
    "plt.plot(x, y1)\n",
    "plt.title('sin(x)')\n",
    "plt.xlabel('x')\n",
    "plt.ylabel('y')\n",
    "\n",
    "plt.subplot(312)\n",
    "plt.plot(x, y2)\n",
    "plt.title('cos(x)')\n",
    "plt.xlabel('x')\n",
    "plt.ylabel('y')\n",
    "\n",
    "plt.subplot(313)\n",
    "plt.plot(x, y3)\n",
    "plt.title('tan(x)')\n",
    "plt.xlabel('x')\n",
    "plt.ylabel('y')\n",
    "plt.ylim(-1, 1)\n",
    "\n",
    "fig.tight_layout()\n",
    "plt.show()"
   ]
  },
  {
   "cell_type": "markdown",
   "id": "41b1b670-107e-4049-bf50-2757c0f87258",
   "metadata": {},
   "source": [
    "# <span style='color:red'> Part 4: Regression with Scikit-learn </spain>"
   ]
  },
  {
   "cell_type": "code",
   "execution_count": 3,
   "id": "db4dfc95-8cba-4abc-96ea-eaa7a34fa3a4",
   "metadata": {},
   "outputs": [],
   "source": [
    "from sklearn.linear_model import Ridge\n",
    "from sklearn.metrics import mean_squared_error\n",
    "\n",
    "# Create random data samples\n",
    "np.random.seed(0)\n",
    "X = 2 * np.random.rand(100, 1)\n",
    "y = 3 * X + np.random.randn(100, 1) + 2"
   ]
  },
  {
   "cell_type": "code",
   "execution_count": 6,
   "id": "a808637d-fab5-4533-ab1c-ff639f55b595",
   "metadata": {},
   "outputs": [
    {
     "data": {
      "text/plain": [
       "<matplotlib.collections.PathCollection at 0x1cd7c6d8a10>"
      ]
     },
     "execution_count": 6,
     "metadata": {},
     "output_type": "execute_result"
    },
    {
     "data": {
      "image/png": "[encoded data removed]",
      "text/plain": [
       "<Figure size 640x480 with 1 Axes>"
      ]
     },
     "metadata": {},
     "output_type": "display_data"
    }
   ],
   "source": [
    "# Plot the generated samples\n",
    "\n",
    "plt.scatter(X, y)"
   ]
  },
  {
   "cell_type": "code",
   "execution_count": 7,
   "id": "3cff5e4b-014d-454a-a508-34d0a9876305",
   "metadata": {},
   "outputs": [],
   "source": [
    "# Split data into training and testing sets (80% train, 20% test)\n",
    "\n",
    "X_train, X_test, y_train, y_test = X[:80], X[80:], y[:80], y[80:]"
   ]
  },
  {
   "cell_type": "code",
   "execution_count": 8,
   "id": "d23cb9c6-8f8a-45be-bdfd-bfcd4c585368",
   "metadata": {},
   "outputs": [
    {
     "data": {
      "text/html": [
       "<style>#sk-container-id-1 {\n",
       "  /* Definition of color scheme common for light and dark mode */\n",
       "  --sklearn-color-text: #000;\n",
       "  --sklearn-color-text-muted: #666;\n",
       "  --sklearn-color-line: gray;\n",
       "  /* Definition of color scheme for unfitted estimators */\n",
       "  --sklearn-color-unfitted-level-0: #fff5e6;\n",
       "  --sklearn-color-unfitted-level-1: #f6e4d2;\n",
       "  --sklearn-color-unfitted-level-2: #ffe0b3;\n",
       "  --sklearn-color-unfitted-level-3: chocolate;\n",
       "  /* Definition of color scheme for fitted estimators */\n",
       "  --sklearn-color-fitted-level-0: #f0f8ff;\n",
       "  --sklearn-color-fitted-level-1: #d4ebff;\n",
       "  --sklearn-color-fitted-level-2: #b3dbfd;\n",
       "  --sklearn-color-fitted-level-3: cornflowerblue;\n",
       "\n",
       "  /* Specific color for light theme */\n",
       "  --sklearn-color-text-on-default-background: var(--sg-text-color, var(--theme-code-foreground, var(--jp-content-font-color1, black)));\n",
       "  --sklearn-color-background: var(--sg-background-color, var(--theme-background, var(--jp-layout-color0, white)));\n",
       "  --sklearn-color-border-box: var(--sg-text-color, var(--theme-code-foreground, var(--jp-content-font-color1, black)));\n",
       "  --sklearn-color-icon: #696969;\n",
       "\n",
       "  @media (prefers-color-scheme: dark) {\n",
       "    /* Redefinition of color scheme for dark theme */\n",
       "    --sklearn-color-text-on-default-background: var(--sg-text-color, var(--theme-code-foreground, var(--jp-content-font-color1, white)));\n",
       "    --sklearn-color-background: var(--sg-background-color, var(--theme-background, var(--jp-layout-color0, #111)));\n",
       "    --sklearn-color-border-box: var(--sg-text-color, var(--theme-code-foreground, var(--jp-content-font-color1, white)));\n",
       "    --sklearn-color-icon: #878787;\n",
       "  }\n",
       "}\n",
       "\n",
       "#sk-container-id-1 {\n",
       "  color: var(--sklearn-color-text);\n",
       "}\n",
       "\n",
       "#sk-container-id-1 pre {\n",
       "  padding: 0;\n",
       "}\n",
       "\n",
       "#sk-container-id-1 input.sk-hidden--visually {\n",
       "  border: 0;\n",
       "  clip: rect(1px 1px 1px 1px);\n",
       "  clip: rect(1px, 1px, 1px, 1px);\n",
       "  height: 1px;\n",
       "  margin: -1px;\n",
       "  overflow: hidden;\n",
       "  padding: 0;\n",
       "  position: absolute;\n",
       "  width: 1px;\n",
       "}\n",
       "\n",
       "#sk-container-id-1 div.sk-dashed-wrapped {\n",
       "  border: 1px dashed var(--sklearn-color-line);\n",
       "  margin: 0 0.4em 0.5em 0.4em;\n",
       "  box-sizing: border-box;\n",
       "  padding-bottom: 0.4em;\n",
       "  background-color: var(--sklearn-color-background);\n",
       "}\n",
       "\n",
       "#sk-container-id-1 div.sk-container {\n",
       "  /* jupyter's `normalize.less` sets `[hidden] { display: none; }`\n",
       "     but bootstrap.min.css set `[hidden] { display: none !important; }`\n",
       "     so we also need the `!important` here to be able to override the\n",
       "     default hidden behavior on the sphinx rendered scikit-learn.org.\n",
       "     See: https://github.com/scikit-learn/scikit-learn/issues/21755 */\n",
       "  display: inline-block !important;\n",
       "  position: relative;\n",
       "}\n",
       "\n",
       "#sk-container-id-1 div.sk-text-repr-fallback {\n",
       "  display: none;\n",
       "}\n",
       "\n",
       "div.sk-parallel-item,\n",
       "div.sk-serial,\n",
       "div.sk-item {\n",
       "  /* draw centered vertical line to link estimators */\n",
       "  background-image: linear-gradient(var(--sklearn-color-text-on-default-background), var(--sklearn-color-text-on-default-background));\n",
       "  background-size: 2px 100%;\n",
       "  background-repeat: no-repeat;\n",
       "  background-position: center center;\n",
       "}\n",
       "\n",
       "/* Parallel-specific style estimator block */\n",
       "\n",
       "#sk-container-id-1 div.sk-parallel-item::after {\n",
       "  content: \"\";\n",
       "  width: 100%;\n",
       "  border-bottom: 2px solid var(--sklearn-color-text-on-default-background);\n",
       "  flex-grow: 1;\n",
       "}\n",
       "\n",
       "#sk-container-id-1 div.sk-parallel {\n",
       "  display: flex;\n",
       "  align-items: stretch;\n",
       "  justify-content: center;\n",
       "  background-color: var(--sklearn-color-background);\n",
       "  position: relative;\n",
       "}\n",
       "\n",
       "#sk-container-id-1 div.sk-parallel-item {\n",
       "  display: flex;\n",
       "  flex-direction: column;\n",
       "}\n",
       "\n",
       "#sk-container-id-1 div.sk-parallel-item:first-child::after {\n",
       "  align-self: flex-end;\n",
       "  width: 50%;\n",
       "}\n",
       "\n",
       "#sk-container-id-1 div.sk-parallel-item:last-child::after {\n",
       "  align-self: flex-start;\n",
       "  width: 50%;\n",
       "}\n",
       "\n",
       "#sk-container-id-1 div.sk-parallel-item:only-child::after {\n",
       "  width: 0;\n",
       "}\n",
       "\n",
       "/* Serial-specific style estimator block */\n",
       "\n",
       "#sk-container-id-1 div.sk-serial {\n",
       "  display: flex;\n",
       "  flex-direction: column;\n",
       "  align-items: center;\n",
       "  background-color: var(--sklearn-color-background);\n",
       "  padding-right: 1em;\n",
       "  padding-left: 1em;\n",
       "}\n",
       "\n",
       "\n",
       "/* Toggleable style: style used for estimator/Pipeline/ColumnTransformer box that is\n",
       "clickable and can be expanded/collapsed.\n",
       "- Pipeline and ColumnTransformer use this feature and define the default style\n",
       "- Estimators will overwrite some part of the style using the `sk-estimator` class\n",
       "*/\n",
       "\n",
       "/* Pipeline and ColumnTransformer style (default) */\n",
       "\n",
       "#sk-container-id-1 div.sk-toggleable {\n",
       "  /* Default theme specific background. It is overwritten whether we have a\n",
       "  specific estimator or a Pipeline/ColumnTransformer */\n",
       "  background-color: var(--sklearn-color-background);\n",
       "}\n",
       "\n",
       "/* Toggleable label */\n",
       "#sk-container-id-1 label.sk-toggleable__label {\n",
       "  cursor: pointer;\n",
       "  display: flex;\n",
       "  width: 100%;\n",
       "  margin-bottom: 0;\n",
       "  padding: 0.5em;\n",
       "  box-sizing: border-box;\n",
       "  text-align: center;\n",
       "  align-items: start;\n",
       "  justify-content: space-between;\n",
       "  gap: 0.5em;\n",
       "}\n",
       "\n",
       "#sk-container-id-1 label.sk-toggleable__label .caption {\n",
       "  font-size: 0.6rem;\n",
       "  font-weight: lighter;\n",
       "  color: var(--sklearn-color-text-muted);\n",
       "}\n",
       "\n",
       "#sk-container-id-1 label.sk-toggleable__label-arrow:before {\n",
       "  /* Arrow on the left of the label */\n",
       "  content: \"▸\";\n",
       "  float: left;\n",
       "  margin-right: 0.25em;\n",
       "  color: var(--sklearn-color-icon);\n",
       "}\n",
       "\n",
       "#sk-container-id-1 label.sk-toggleable__label-arrow:hover:before {\n",
       "  color: var(--sklearn-color-text);\n",
       "}\n",
       "\n",
       "/* Toggleable content - dropdown */\n",
       "\n",
       "#sk-container-id-1 div.sk-toggleable__content {\n",
       "  max-height: 0;\n",
       "  max-width: 0;\n",
       "  overflow: hidden;\n",
       "  text-align: left;\n",
       "  /* unfitted */\n",
       "  background-color: var(--sklearn-color-unfitted-level-0);\n",
       "}\n",
       "\n",
       "#sk-container-id-1 div.sk-toggleable__content.fitted {\n",
       "  /* fitted */\n",
       "  background-color: var(--sklearn-color-fitted-level-0);\n",
       "}\n",
       "\n",
       "#sk-container-id-1 div.sk-toggleable__content pre {\n",
       "  margin: 0.2em;\n",
       "  border-radius: 0.25em;\n",
       "  color: var(--sklearn-color-text);\n",
       "  /* unfitted */\n",
       "  background-color: var(--sklearn-color-unfitted-level-0);\n",
       "}\n",
       "\n",
       "#sk-container-id-1 div.sk-toggleable__content.fitted pre {\n",
       "  /* unfitted */\n",
       "  background-color: var(--sklearn-color-fitted-level-0);\n",
       "}\n",
       "\n",
       "#sk-container-id-1 input.sk-toggleable__control:checked~div.sk-toggleable__content {\n",
       "  /* Expand drop-down */\n",
       "  max-height: 200px;\n",
       "  max-width: 100%;\n",
       "  overflow: auto;\n",
       "}\n",
       "\n",
       "#sk-container-id-1 input.sk-toggleable__control:checked~label.sk-toggleable__label-arrow:before {\n",
       "  content: \"▾\";\n",
       "}\n",
       "\n",
       "/* Pipeline/ColumnTransformer-specific style */\n",
       "\n",
       "#sk-container-id-1 div.sk-label input.sk-toggleable__control:checked~label.sk-toggleable__label {\n",
       "  color: var(--sklearn-color-text);\n",
       "  background-color: var(--sklearn-color-unfitted-level-2);\n",
       "}\n",
       "\n",
       "#sk-container-id-1 div.sk-label.fitted input.sk-toggleable__control:checked~label.sk-toggleable__label {\n",
       "  background-color: var(--sklearn-color-fitted-level-2);\n",
       "}\n",
       "\n",
       "/* Estimator-specific style */\n",
       "\n",
       "/* Colorize estimator box */\n",
       "#sk-container-id-1 div.sk-estimator input.sk-toggleable__control:checked~label.sk-toggleable__label {\n",
       "  /* unfitted */\n",
       "  background-color: var(--sklearn-color-unfitted-level-2);\n",
       "}\n",
       "\n",
       "#sk-container-id-1 div.sk-estimator.fitted input.sk-toggleable__control:checked~label.sk-toggleable__label {\n",
       "  /* fitted */\n",
       "  background-color: var(--sklearn-color-fitted-level-2);\n",
       "}\n",
       "\n",
       "#sk-container-id-1 div.sk-label label.sk-toggleable__label,\n",
       "#sk-container-id-1 div.sk-label label {\n",
       "  /* The background is the default theme color */\n",
       "  color: var(--sklearn-color-text-on-default-background);\n",
       "}\n",
       "\n",
       "/* On hover, darken the color of the background */\n",
       "#sk-container-id-1 div.sk-label:hover label.sk-toggleable__label {\n",
       "  color: var(--sklearn-color-text);\n",
       "  background-color: var(--sklearn-color-unfitted-level-2);\n",
       "}\n",
       "\n",
       "/* Label box, darken color on hover, fitted */\n",
       "#sk-container-id-1 div.sk-label.fitted:hover label.sk-toggleable__label.fitted {\n",
       "  color: var(--sklearn-color-text);\n",
       "  background-color: var(--sklearn-color-fitted-level-2);\n",
       "}\n",
       "\n",
       "/* Estimator label */\n",
       "\n",
       "#sk-container-id-1 div.sk-label label {\n",
       "  font-family: monospace;\n",
       "  font-weight: bold;\n",
       "  display: inline-block;\n",
       "  line-height: 1.2em;\n",
       "}\n",
       "\n",
       "#sk-container-id-1 div.sk-label-container {\n",
       "  text-align: center;\n",
       "}\n",
       "\n",
       "/* Estimator-specific */\n",
       "#sk-container-id-1 div.sk-estimator {\n",
       "  font-family: monospace;\n",
       "  border: 1px dotted var(--sklearn-color-border-box);\n",
       "  border-radius: 0.25em;\n",
       "  box-sizing: border-box;\n",
       "  margin-bottom: 0.5em;\n",
       "  /* unfitted */\n",
       "  background-color: var(--sklearn-color-unfitted-level-0);\n",
       "}\n",
       "\n",
       "#sk-container-id-1 div.sk-estimator.fitted {\n",
       "  /* fitted */\n",
       "  background-color: var(--sklearn-color-fitted-level-0);\n",
       "}\n",
       "\n",
       "/* on hover */\n",
       "#sk-container-id-1 div.sk-estimator:hover {\n",
       "  /* unfitted */\n",
       "  background-color: var(--sklearn-color-unfitted-level-2);\n",
       "}\n",
       "\n",
       "#sk-container-id-1 div.sk-estimator.fitted:hover {\n",
       "  /* fitted */\n",
       "  background-color: var(--sklearn-color-fitted-level-2);\n",
       "}\n",
       "\n",
       "/* Specification for estimator info (e.g. \"i\" and \"?\") */\n",
       "\n",
       "/* Common style for \"i\" and \"?\" */\n",
       "\n",
       ".sk-estimator-doc-link,\n",
       "a:link.sk-estimator-doc-link,\n",
       "a:visited.sk-estimator-doc-link {\n",
       "  float: right;\n",
       "  font-size: smaller;\n",
       "  line-height: 1em;\n",
       "  font-family: monospace;\n",
       "  background-color: var(--sklearn-color-background);\n",
       "  border-radius: 1em;\n",
       "  height: 1em;\n",
       "  width: 1em;\n",
       "  text-decoration: none !important;\n",
       "  margin-left: 0.5em;\n",
       "  text-align: center;\n",
       "  /* unfitted */\n",
       "  border: var(--sklearn-color-unfitted-level-1) 1pt solid;\n",
       "  color: var(--sklearn-color-unfitted-level-1);\n",
       "}\n",
       "\n",
       ".sk-estimator-doc-link.fitted,\n",
       "a:link.sk-estimator-doc-link.fitted,\n",
       "a:visited.sk-estimator-doc-link.fitted {\n",
       "  /* fitted */\n",
       "  border: var(--sklearn-color-fitted-level-1) 1pt solid;\n",
       "  color: var(--sklearn-color-fitted-level-1);\n",
       "}\n",
       "\n",
       "/* On hover */\n",
       "div.sk-estimator:hover .sk-estimator-doc-link:hover,\n",
       ".sk-estimator-doc-link:hover,\n",
       "div.sk-label-container:hover .sk-estimator-doc-link:hover,\n",
       ".sk-estimator-doc-link:hover {\n",
       "  /* unfitted */\n",
       "  background-color: var(--sklearn-color-unfitted-level-3);\n",
       "  color: var(--sklearn-color-background);\n",
       "  text-decoration: none;\n",
       "}\n",
       "\n",
       "div.sk-estimator.fitted:hover .sk-estimator-doc-link.fitted:hover,\n",
       ".sk-estimator-doc-link.fitted:hover,\n",
       "div.sk-label-container:hover .sk-estimator-doc-link.fitted:hover,\n",
       ".sk-estimator-doc-link.fitted:hover {\n",
       "  /* fitted */\n",
       "  background-color: var(--sklearn-color-fitted-level-3);\n",
       "  color: var(--sklearn-color-background);\n",
       "  text-decoration: none;\n",
       "}\n",
       "\n",
       "/* Span, style for the box shown on hovering the info icon */\n",
       ".sk-estimator-doc-link span {\n",
       "  display: none;\n",
       "  z-index: 9999;\n",
       "  position: relative;\n",
       "  font-weight: normal;\n",
       "  right: .2ex;\n",
       "  padding: .5ex;\n",
       "  margin: .5ex;\n",
       "  width: min-content;\n",
       "  min-width: 20ex;\n",
       "  max-width: 50ex;\n",
       "  color: var(--sklearn-color-text);\n",
       "  box-shadow: 2pt 2pt 4pt #999;\n",
       "  /* unfitted */\n",
       "  background: var(--sklearn-color-unfitted-level-0);\n",
       "  border: .5pt solid var(--sklearn-color-unfitted-level-3);\n",
       "}\n",
       "\n",
       ".sk-estimator-doc-link.fitted span {\n",
       "  /* fitted */\n",
       "  background: var(--sklearn-color-fitted-level-0);\n",
       "  border: var(--sklearn-color-fitted-level-3);\n",
       "}\n",
       "\n",
       ".sk-estimator-doc-link:hover span {\n",
       "  display: block;\n",
       "}\n",
       "\n",
       "/* \"?\"-specific style due to the `<a>` HTML tag */\n",
       "\n",
       "#sk-container-id-1 a.estimator_doc_link {\n",
       "  float: right;\n",
       "  font-size: 1rem;\n",
       "  line-height: 1em;\n",
       "  font-family: monospace;\n",
       "  background-color: var(--sklearn-color-background);\n",
       "  border-radius: 1rem;\n",
       "  height: 1rem;\n",
       "  width: 1rem;\n",
       "  text-decoration: none;\n",
       "  /* unfitted */\n",
       "  color: var(--sklearn-color-unfitted-level-1);\n",
       "  border: var(--sklearn-color-unfitted-level-1) 1pt solid;\n",
       "}\n",
       "\n",
       "#sk-container-id-1 a.estimator_doc_link.fitted {\n",
       "  /* fitted */\n",
       "  border: var(--sklearn-color-fitted-level-1) 1pt solid;\n",
       "  color: var(--sklearn-color-fitted-level-1);\n",
       "}\n",
       "\n",
       "/* On hover */\n",
       "#sk-container-id-1 a.estimator_doc_link:hover {\n",
       "  /* unfitted */\n",
       "  background-color: var(--sklearn-color-unfitted-level-3);\n",
       "  color: var(--sklearn-color-background);\n",
       "  text-decoration: none;\n",
       "}\n",
       "\n",
       "#sk-container-id-1 a.estimator_doc_link.fitted:hover {\n",
       "  /* fitted */\n",
       "  background-color: var(--sklearn-color-fitted-level-3);\n",
       "}\n",
       "</style><div id=\"sk-container-id-1\" class=\"sk-top-container\"><div class=\"sk-text-repr-fallback\"><pre>Ridge(alpha=1)</pre><b>In a Jupyter environment, please rerun this cell to show the HTML representation or trust the notebook. <br />On GitHub, the HTML representation is unable to render, please try loading this page with nbviewer.org.</b></div><div class=\"sk-container\" hidden><div class=\"sk-item\"><div class=\"sk-estimator fitted sk-toggleable\"><input class=\"sk-toggleable__control sk-hidden--visually\" id=\"sk-estimator-id-1\" type=\"checkbox\" checked><label for=\"sk-estimator-id-1\" class=\"sk-toggleable__label fitted sk-toggleable__label-arrow\"><div><div>Ridge</div></div><div><a class=\"sk-estimator-doc-link fitted\" rel=\"noreferrer\" target=\"_blank\" href=\"https://scikit-learn.org/1.6/modules/generated/sklearn.linear_model.Ridge.html\">?<span>Documentation for Ridge</span></a><span class=\"sk-estimator-doc-link fitted\">i<span>Fitted</span></span></div></label><div class=\"sk-toggleable__content fitted\"><pre>Ridge(alpha=1)</pre></div> </div></div></div></div>"
      ],
      "text/plain": [
       "Ridge(alpha=1)"
      ]
     },
     "execution_count": 8,
     "metadata": {},
     "output_type": "execute_result"
    }
   ],
   "source": [
    "# Create a Ridge Regression model with alpha=1.0 using scikit-learn\n",
    "ridge_model = Ridge(alpha=1)\n",
    "\n",
    "# Train the model\n",
    "ridge_model.fit(X_train, y_train)"
   ]
  },
  {
   "cell_type": "code",
   "execution_count": 9,
   "id": "c7db974a-6928-417b-84b3-0a745bf70969",
   "metadata": {},
   "outputs": [],
   "source": [
    "# Make predictions on the test set\n",
    "y_pred = ridge_model.predict(X_test)\n",
    "\n",
    "# Evaluate the model using RMSE\n",
    "rmse = np.sqrt(mean_squared_error(y_test, y_pred))"
   ]
  },
  {
   "cell_type": "code",
   "execution_count": 10,
   "id": "f9254560-b572-4f42-bc1e-658442f64902",
   "metadata": {},
   "outputs": [
    {
     "data": {
      "text/plain": [
       "<matplotlib.collections.PathCollection at 0x1cd7c8e4e60>"
      ]
     },
     "execution_count": 10,
     "metadata": {},
     "output_type": "execute_result"
    },
    {
     "data": {
      "image/png": "[encoded data removed]",
      "text/plain": [
       "<Figure size 640x480 with 1 Axes>"
      ]
     },
     "metadata": {},
     "output_type": "display_data"
    }
   ],
   "source": [
    "# Plot ground-truth y vs predicted y\n",
    "\n",
    "plt.scatter(X_test, y_test, color = 'black')\n",
    "plt.scatter(X_test, y_pred, color = 'red')"
   ]
  },
  {
   "cell_type": "code",
   "execution_count": 11,
   "id": "0c63ce3a-524f-4dfd-8bf3-dca313944aa4",
   "metadata": {},
   "outputs": [
    {
     "name": "stdout",
     "output_type": "stream",
     "text": [
      "RMSE: 0.9517813919679224\n"
     ]
    }
   ],
   "source": [
    "# Print the RMSE error between ground-truth and predicted y\n",
    "\n",
    "print(f\"RMSE: {rmse}\")"
   ]
  },
  {
   "cell_type": "markdown",
   "id": "fbaf6473",
   "metadata": {},
   "source": [
    "# <span style='color:red'> Supplementary: Basic Debugging </spain>"
   ]
  },
  {
   "cell_type": "code",
   "execution_count": null,
   "id": "41d6d8c4",
   "metadata": {},
   "outputs": [],
   "source": [
    "# A toy function which divides 1 by the provided divisor\n",
    "\n",
    "def test_func(divisor):\n",
    "\n",
    "    breakpoint() # Upon execution of the code, activates Python debugger console at this line\n",
    "    \n",
    "    val = 1/divisor\n",
    "    \n",
    "    return val"
   ]
  },
  {
   "cell_type": "code",
   "execution_count": null,
   "id": "96c4c546",
   "metadata": {},
   "outputs": [],
   "source": [
    "# Play with the Python debugger console\n",
    "# Basic commands:\n",
    "# h: help\n",
    "# w: where\n",
    "# n: next\n",
    "# c: continue\n",
    "# p: print\n",
    "# l: list\n",
    "# q: quit\n",
    "\n",
    "%debug\n",
    "test_func(0) "
   ]
  },
  {
   "cell_type": "code",
   "execution_count": null,
   "id": "6212dbae",
   "metadata": {},
   "outputs": [],
   "source": [
    "# Useful Youtube video for the basics of Python Debugger\n",
    "# https://www.youtube.com/watch?v=aZJnGOwzHtU"
   ]
  }
 ],
 "metadata": {
  "kernelspec": {
   "display_name": "Python 3 (ipykernel)",
   "language": "python",
   "name": "python3"
  },
  "language_info": {
   "codemirror_mode": {
    "name": "ipython",
    "version": 3
   },
   "file_extension": ".py",
   "mimetype": "text/x-python",
   "name": "python",
   "nbconvert_exporter": "python",
   "pygments_lexer": "ipython3",
   "version": "3.12.3"
  }
 },
 "nbformat": 4,
 "nbformat_minor": 5
}
